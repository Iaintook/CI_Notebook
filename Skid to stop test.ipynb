{
 "cells": [
  {
   "cell_type": "code",
   "execution_count": 13,
   "id": "f86eea36",
   "metadata": {},
   "outputs": [],
   "source": [
    "import math\n",
    "import ipywidgets\n"
   ]
  },
  {
   "cell_type": "code",
   "execution_count": 11,
   "id": "51218def",
   "metadata": {},
   "outputs": [
    {
     "data": {
      "application/vnd.jupyter.widget-view+json": {
       "model_id": "4311beed71ba43f499f9395a1b879e31",
       "version_major": 2,
       "version_minor": 0
      },
      "text/plain": [
       "IntSlider(value=25, description='Mark Length:', max=50, min=5)"
      ]
     },
     "metadata": {},
     "output_type": "display_data"
    },
    {
     "data": {
      "application/vnd.jupyter.widget-view+json": {
       "model_id": "31c71b086cf7458eb0888e1859716f68",
       "version_major": 2,
       "version_minor": 0
      },
      "text/plain": [
       "FloatSlider(value=0.7, description='mu:', max=1.5, min=0.1, step=0.05)"
      ]
     },
     "metadata": {},
     "output_type": "display_data"
    },
    {
     "name": "stdout",
     "output_type": "stream",
     "text": [
      "18.53\n"
     ]
    }
   ],
   "source": [
    "slider = ipywidgets.IntSlider(\n",
    " value=25, # default value\n",
    " min=5, # min value\n",
    " max=50, # max value\n",
    " step=1, # incriment size\n",
    " description='Mark Length:' # slider label\n",
    ")\n",
    "display(slider) # display the slider\n",
    "slider2 = ipywidgets.FloatSlider(\n",
    " value=0.7, # default value\n",
    " min=0.1, # min value\n",
    " max=1.5, # max value\n",
    " step=0.05, # incriment size\n",
    " description='mu:' # slider label\n",
    ")\n",
    "display(slider2) # display the slider\n",
    "\n",
    "result = round(math.sqrt(2*9.81*slider.value*slider2.value),2)\n",
    "print(result)\n"
   ]
  },
  {
   "cell_type": "code",
   "execution_count": 3,
   "id": "fc318fb0",
   "metadata": {},
   "outputs": [
    {
     "name": "stdout",
     "output_type": "stream",
     "text": [
      "7\n"
     ]
    }
   ],
   "source": [
    "print(slider.value) # get the value of the slider"
   ]
  },
  {
   "cell_type": "code",
   "execution_count": 4,
   "id": "8f2bb260",
   "metadata": {},
   "outputs": [
    {
     "name": "stdout",
     "output_type": "stream",
     "text": [
      "9.8\n"
     ]
    }
   ],
   "source": [
    "result = round(math.sqrt(2*9.81*slider.value*slider2.value),2)\n",
    "print(result)"
   ]
  },
  {
   "cell_type": "code",
   "execution_count": 25,
   "id": "dd69375c",
   "metadata": {},
   "outputs": [
    {
     "data": {
      "application/vnd.jupyter.widget-view+json": {
       "model_id": "db55cd0fa6ba41a8b8c9bd60a021920c",
       "version_major": 2,
       "version_minor": 0
      },
      "text/plain": [
       "interactive(children=(IntSlider(value=25, description='Displacement', max=50, min=1, step=2), FloatSlider(valu…"
      ]
     },
     "metadata": {},
     "output_type": "display_data"
    }
   ],
   "source": [
    "from IPython.display import display\n",
    "import math\n",
    "import ipywidgets\n",
    "\n",
    "def func3(displacement,gravity,mu):\n",
    "    display(math.sqrt(2*mu*gravity*displacement))\n",
    "\n",
    "w = ipywidgets.interactive(func3,  displacement=widgets.IntSlider(min=1, max=50, value=25, step=2, description = \"Displacement\"),\n",
    "                        mu=widgets.FloatSlider(min=0.1, max=1.9, value=0.7, step=0.1, description = \"mu\"),\n",
    "                        gravity=widgets.FloatSlider(min=9.7, max=9.9, value=9.8, step=0.1, description = \"Gravity\"),\n",
    "                       )\n",
    "display(w)"
   ]
  },
  {
   "cell_type": "code",
   "execution_count": 17,
   "id": "fc36f214",
   "metadata": {},
   "outputs": [
    {
     "data": {
      "application/vnd.jupyter.widget-view+json": {
       "model_id": "6ed80c155cfa42baa38849c92ab869af",
       "version_major": 2,
       "version_minor": 0
      },
      "text/plain": [
       "IntSlider(value=5, max=10)"
      ]
     },
     "metadata": {},
     "output_type": "display_data"
    },
    {
     "data": {
      "application/vnd.jupyter.widget-view+json": {
       "model_id": "35ec76e013bc441fbc6270dc7f52be8a",
       "version_major": 2,
       "version_minor": 0
      },
      "text/plain": [
       "Output()"
      ]
     },
     "metadata": {},
     "output_type": "display_data"
    },
    {
     "data": {
      "application/vnd.jupyter.widget-view+json": {
       "model_id": "85ba48a9255e463cba0e4cef8e0d7bfe",
       "version_major": 2,
       "version_minor": 0
      },
      "text/plain": [
       "Output()"
      ]
     },
     "metadata": {},
     "output_type": "display_data"
    }
   ],
   "source": [
    "import ipywidgets as widgets\n",
    "from IPython.display import display\n",
    "\n",
    "a = widgets.IntSlider(value=5, min=0, max=10)\n",
    "\n",
    "def f1(a):\n",
    "    display(a)\n",
    "\n",
    "def f2(a):\n",
    "    display(a * 2)\n",
    "\n",
    "out1 = widgets.interactive_output(f1, {'a': a})\n",
    "out2 = widgets.interactive_output(f2, {'a': a})\n",
    "\n",
    "display(a)\n",
    "display(out1)\n",
    "display(out2)"
   ]
  },
  {
   "cell_type": "code",
   "execution_count": null,
   "id": "a8372454",
   "metadata": {},
   "outputs": [],
   "source": []
  }
 ],
 "metadata": {
  "kernelspec": {
   "display_name": "Python 3 (ipykernel)",
   "language": "python",
   "name": "python3"
  },
  "language_info": {
   "codemirror_mode": {
    "name": "ipython",
    "version": 3
   },
   "file_extension": ".py",
   "mimetype": "text/x-python",
   "name": "python",
   "nbconvert_exporter": "python",
   "pygments_lexer": "ipython3",
   "version": "3.10.2"
  }
 },
 "nbformat": 4,
 "nbformat_minor": 5
}
